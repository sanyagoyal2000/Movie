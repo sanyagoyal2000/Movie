{
 "cells": [
  {
   "cell_type": "code",
   "execution_count": 68,
   "metadata": {},
   "outputs": [],
   "source": [
    "import simpy\n",
    "import random\n",
    "import statistics"
   ]
  },
  {
   "cell_type": "code",
   "execution_count": 69,
   "metadata": {},
   "outputs": [],
   "source": [
    "wait_times = []"
   ]
  },
  {
   "cell_type": "code",
   "execution_count": 70,
   "metadata": {},
   "outputs": [],
   "source": [
    "class Theater(object):\n",
    "    def __init__(self, env, ncashiers, nfoodservers, nushers):\n",
    "        self.env = env\n",
    "        self.cashier = simpy.Resource(env, ncashiers)\n",
    "        self.server = simpy.Resource(env, nfoodservers)\n",
    "        self.usher = simpy.Resource(env, nushers)\n",
    "    def get_ticket(self, moviegoer):\n",
    "        yield self.env.timeout(random.randint(1, 4))\n",
    "    def get_ticket_checked(self, moviegoer):\n",
    "        yield self.env.timeout(3 / 60)\n",
    "    def get_food(self, moviegoer):\n",
    "        yield self.env.timeout(random.randint(1, 6))"
   ]
  },
  {
   "cell_type": "code",
   "execution_count": 71,
   "metadata": {},
   "outputs": [],
   "source": [
    "def go_to_movies(env, moviegoer, theater):\n",
    "   \n",
    "    arrival_time = env.now\n",
    "\n",
    "    with theater.cashier.request() as request:\n",
    "        yield request\n",
    "        yield env.process(theater.get_ticket(moviegoer))\n",
    "\n",
    "    with theater.usher.request() as request:\n",
    "        yield request\n",
    "        yield env.process(theater.get_ticket_checked(moviegoer))\n",
    "\n",
    "    if random.choice([True, False]):\n",
    "        with theater.server.request() as request:\n",
    "            yield request\n",
    "            yield env.process(theater.get_food(moviegoer))\n",
    "\n",
    "    wait_times.append(env.now - arrival_time)"
   ]
  },
  {
   "cell_type": "code",
   "execution_count": 72,
   "metadata": {},
   "outputs": [],
   "source": [
    "def run_simulation_theater(env, ncashiers, nfoodservers, nushers):\n",
    "    theater = Theater(env, ncashiers, nfoodservers, nushers)\n",
    "\n",
    "    for moviegoer in range(3):\n",
    "        env.process(go_to_movies(env, moviegoer, theater))\n",
    "\n",
    "    while True:\n",
    "        yield env.timeout(0.20)  \n",
    "\n",
    "        moviegoer += 1\n",
    "        env.process(go_to_movies(env, moviegoer, theater))\n"
   ]
  },
  {
   "cell_type": "code",
   "execution_count": 73,
   "metadata": {},
   "outputs": [],
   "source": [
    "def get_average_wait_time(wait_times):\n",
    "    average_wait = statistics.mean(wait_times)\n",
    "    \n",
    "    minutes, frac_minutes = divmod(average_wait, 1)\n",
    "    seconds = frac_minutes * 60\n",
    "    return round(minutes), round(seconds)"
   ]
  },
  {
   "cell_type": "code",
   "execution_count": 74,
   "metadata": {},
   "outputs": [],
   "source": [
    "def get_user_input():\n",
    "    ncashiers = input(\"Input the no. of cashiers working: \")\n",
    "    nfoodservers = input(\"Input the no. of food servers working: \")\n",
    "    nushers = input(\"Input the no. of ushers working to check ticket and show seat: \")\n",
    "    params = [ncashiers, nfoodservers, nushers]\n",
    "    if all(str(i).isdigit() for i in params): \n",
    "        params = [int(x) for x in params]\n",
    "    else:\n",
    "        print(\n",
    "            \"Could not parse input. Simulation will use default values:\",\n",
    "            \"\\n1 cashier, 1 server, 1 usher.\",\n",
    "        )\n",
    "        params = [1, 1, 1]\n",
    "    return params\n"
   ]
  },
  {
   "cell_type": "code",
   "execution_count": 75,
   "metadata": {},
   "outputs": [],
   "source": [
    "def main():\n",
    "    \n",
    "    random.seed(42)\n",
    "    ncashiers, nfoodservers, nushers = get_user_input()\n",
    "\n",
    "    \n",
    "    env = simpy.Environment()\n",
    "    env.process(run_simulation_theater(env, ncashiers, nfoodservers, nushers))\n",
    "    env.run(until=90)\n",
    "\n",
    "    \n",
    "    mins, secs = get_average_wait_time(wait_times)\n",
    "    print(\"Running simulation....\\n\")\n",
    "    print(\"The average wait time is \" + str(mins)+\" minutes and \"+str(secs)+\" seconds.\")\n",
    "        "
   ]
  },
  {
   "cell_type": "code",
   "execution_count": 76,
   "metadata": {},
   "outputs": [
    {
     "name": "stdout",
     "output_type": "stream",
     "text": [
      "Input the no. of cashiers working: 10\n",
      "Input the no. of food servers working: 10\n",
      "Input the no. of ushers working to check ticket and show seat: 2\n",
      "Running simulation....\n",
      "\n",
      "The average wait time is 11 minutes and 2 seconds.\n"
     ]
    }
   ],
   "source": [
    "if __name__ == \"__main__\":\n",
    "    main()"
   ]
  },
  {
   "cell_type": "code",
   "execution_count": 77,
   "metadata": {},
   "outputs": [
    {
     "name": "stdout",
     "output_type": "stream",
     "text": [
      "Input the no. of cashiers working: 10\n",
      "Input the no. of food servers working: 10\n",
      "Input the no. of ushers working to check ticket and show seat: 4\n",
      "Running simulation....\n",
      "\n",
      "The average wait time is 11 minutes and 2 seconds.\n"
     ]
    }
   ],
   "source": [
    "if __name__ == \"__main__\":\n",
    "    main()"
   ]
  },
  {
   "cell_type": "code",
   "execution_count": 78,
   "metadata": {},
   "outputs": [
    {
     "name": "stdout",
     "output_type": "stream",
     "text": [
      "Input the no. of cashiers working: 10\n",
      "Input the no. of food servers working: 9\n",
      "Input the no. of ushers working to check ticket and show seat: 2\n",
      "Running simulation....\n",
      "\n",
      "The average wait time is 11 minutes and 27 seconds.\n"
     ]
    }
   ],
   "source": [
    "if __name__ == \"__main__\":\n",
    "    main()"
   ]
  },
  {
   "cell_type": "code",
   "execution_count": 79,
   "metadata": {},
   "outputs": [
    {
     "name": "stdout",
     "output_type": "stream",
     "text": [
      "Input the no. of cashiers working: 9\n",
      "Input the no. of food servers working: 10\n",
      "Input the no. of ushers working to check ticket and show seat: 2\n",
      "Running simulation....\n",
      "\n",
      "The average wait time is 12 minutes and 2 seconds.\n"
     ]
    }
   ],
   "source": [
    "if __name__ == \"__main__\":\n",
    "    main()"
   ]
  },
  {
   "cell_type": "code",
   "execution_count": 80,
   "metadata": {},
   "outputs": [
    {
     "name": "stdout",
     "output_type": "stream",
     "text": [
      "Input the no. of cashiers working: 10\n",
      "Input the no. of food servers working: 8\n",
      "Input the no. of ushers working to check ticket and show seat: 2\n",
      "Running simulation....\n",
      "\n",
      "The average wait time is 11 minutes and 56 seconds.\n"
     ]
    }
   ],
   "source": [
    "if __name__ == \"__main__\":\n",
    "    main()"
   ]
  },
  {
   "cell_type": "code",
   "execution_count": 81,
   "metadata": {},
   "outputs": [
    {
     "name": "stdout",
     "output_type": "stream",
     "text": [
      "Input the no. of cashiers working: 9\n",
      "Input the no. of food servers working: 8\n",
      "Input the no. of ushers working to check ticket and show seat: 4\n",
      "Running simulation....\n",
      "\n",
      "The average wait time is 12 minutes and 18 seconds.\n"
     ]
    }
   ],
   "source": [
    "if __name__ == \"__main__\":\n",
    "    main()"
   ]
  },
  {
   "cell_type": "code",
   "execution_count": 82,
   "metadata": {},
   "outputs": [
    {
     "name": "stdout",
     "output_type": "stream",
     "text": [
      "Input the no. of cashiers working: 9\n",
      "Input the no. of food servers working: 9\n",
      "Input the no. of ushers working to check ticket and show seat: 2\n",
      "Running simulation....\n",
      "\n",
      "The average wait time is 12 minutes and 34 seconds.\n"
     ]
    }
   ],
   "source": [
    "if __name__ == \"__main__\":\n",
    "    main()\n",
    "    "
   ]
  },
  {
   "cell_type": "code",
   "execution_count": 83,
   "metadata": {},
   "outputs": [
    {
     "name": "stdout",
     "output_type": "stream",
     "text": [
      "Input the no. of cashiers working: 9\n",
      "Input the no. of food servers working: 7\n",
      "Input the no. of ushers working to check ticket and show seat: 5\n",
      "Running simulation....\n",
      "\n",
      "The average wait time is 12 minutes and 51 seconds.\n"
     ]
    }
   ],
   "source": [
    "if __name__ == \"__main__\":\n",
    "    main()"
   ]
  },
  {
   "cell_type": "code",
   "execution_count": 1,
   "metadata": {},
   "outputs": [
    {
     "ename": "NameError",
     "evalue": "name 'main' is not defined",
     "output_type": "error",
     "traceback": [
      "\u001b[0;31m---------------------------------------------------------------------------\u001b[0m",
      "\u001b[0;31mNameError\u001b[0m                                 Traceback (most recent call last)",
      "\u001b[0;32m<ipython-input-1-972361fa1b80>\u001b[0m in \u001b[0;36m<module>\u001b[0;34m\u001b[0m\n\u001b[1;32m      1\u001b[0m \u001b[0;32mif\u001b[0m \u001b[0m__name__\u001b[0m \u001b[0;34m==\u001b[0m \u001b[0;34m\"__main__\"\u001b[0m\u001b[0;34m:\u001b[0m\u001b[0;34m\u001b[0m\u001b[0;34m\u001b[0m\u001b[0m\n\u001b[0;32m----> 2\u001b[0;31m     \u001b[0mmain\u001b[0m\u001b[0;34m(\u001b[0m\u001b[0;34m)\u001b[0m\u001b[0;34m\u001b[0m\u001b[0;34m\u001b[0m\u001b[0m\n\u001b[0m",
      "\u001b[0;31mNameError\u001b[0m: name 'main' is not defined"
     ]
    }
   ],
   "source": [
    "if __name__ == \"__main__\":\n",
    "    main()"
   ]
  },
  {
   "cell_type": "code",
   "execution_count": 85,
   "metadata": {},
   "outputs": [
    {
     "name": "stdout",
     "output_type": "stream",
     "text": [
      "Input the no. of cashiers working: 12\n",
      "Input the no. of food servers working: 12\n",
      "Input the no. of ushers working to check ticket and show seat: 4\n",
      "Running simulation....\n",
      "\n",
      "The average wait time is 10 minutes and 54 seconds.\n"
     ]
    }
   ],
   "source": [
    "if __name__ == \"__main__\":\n",
    "    main()"
   ]
  },
  {
   "cell_type": "code",
   "execution_count": 86,
   "metadata": {},
   "outputs": [
    {
     "name": "stdout",
     "output_type": "stream",
     "text": [
      "Input the no. of cashiers working: 12\n",
      "Input the no. of food servers working: 12\n",
      "Input the no. of ushers working to check ticket and show seat: 6\n",
      "Running simulation....\n",
      "\n",
      "The average wait time is 10 minutes and 19 seconds.\n"
     ]
    }
   ],
   "source": [
    "if __name__ == \"__main__\":\n",
    "    main()"
   ]
  },
  {
   "cell_type": "code",
   "execution_count": 87,
   "metadata": {},
   "outputs": [
    {
     "name": "stdout",
     "output_type": "stream",
     "text": [
      "Input the no. of cashiers working: 15\n",
      "Input the no. of food servers working: 15\n",
      "Input the no. of ushers working to check ticket and show seat: 2\n",
      "Running simulation....\n",
      "\n",
      "The average wait time is 9 minutes and 44 seconds.\n"
     ]
    }
   ],
   "source": [
    "if __name__ == \"__main__\":\n",
    "    main()\n",
    "    "
   ]
  },
  {
   "cell_type": "code",
   "execution_count": 88,
   "metadata": {},
   "outputs": [
    {
     "name": "stdout",
     "output_type": "stream",
     "text": [
      "Input the no. of cashiers working: 14\n",
      "Input the no. of food servers working: 15\n",
      "Input the no. of ushers working to check ticket and show seat: 2\n",
      "Running simulation....\n",
      "\n",
      "The average wait time is 9 minutes and 15 seconds.\n"
     ]
    }
   ],
   "source": [
    "if __name__ == \"__main__\":\n",
    "    main()"
   ]
  },
  {
   "cell_type": "code",
   "execution_count": 89,
   "metadata": {},
   "outputs": [
    {
     "name": "stdout",
     "output_type": "stream",
     "text": [
      "Input the no. of cashiers working: 15\n",
      "Input the no. of food servers working: 5\n",
      "Input the no. of ushers working to check ticket and show seat: 5\n",
      "Running simulation....\n",
      "\n",
      "The average wait time is 9 minutes and 16 seconds.\n"
     ]
    }
   ],
   "source": [
    "if __name__ == \"__main__\":\n",
    "    main()"
   ]
  },
  {
   "cell_type": "code",
   "execution_count": 90,
   "metadata": {},
   "outputs": [
    {
     "name": "stdout",
     "output_type": "stream",
     "text": [
      "Input the no. of cashiers working: 10\n",
      "Input the no. of food servers working: 5\n",
      "Input the no. of ushers working to check ticket and show seat: 2\n",
      "Running simulation....\n",
      "\n",
      "The average wait time is 9 minutes and 37 seconds.\n"
     ]
    }
   ],
   "source": [
    "if __name__ == \"__main__\":\n",
    "    main()"
   ]
  },
  {
   "cell_type": "code",
   "execution_count": 91,
   "metadata": {},
   "outputs": [
    {
     "name": "stdout",
     "output_type": "stream",
     "text": [
      "Input the no. of cashiers working: 10\n",
      "Input the no. of food servers working: 2\n",
      "Input the no. of ushers working to check ticket and show seat: 2\n",
      "Running simulation....\n",
      "\n",
      "The average wait time is 9 minutes and 56 seconds.\n"
     ]
    }
   ],
   "source": [
    "if __name__ == \"__main__\":\n",
    "    main()"
   ]
  },
  {
   "cell_type": "code",
   "execution_count": null,
   "metadata": {},
   "outputs": [
    {
     "name": "stdout",
     "output_type": "stream",
     "text": [
      "Input the no. of cashiers working: 9\n"
     ]
    }
   ],
   "source": [
    "if __name__ == \"__main__\":\n",
    "    main()"
   ]
  },
  {
   "cell_type": "code",
   "execution_count": null,
   "metadata": {},
   "outputs": [],
   "source": []
  }
 ],
 "metadata": {
  "kernelspec": {
   "display_name": "Python 3",
   "language": "python",
   "name": "python3"
  },
  "language_info": {
   "codemirror_mode": {
    "name": "ipython",
    "version": 3
   },
   "file_extension": ".py",
   "mimetype": "text/x-python",
   "name": "python",
   "nbconvert_exporter": "python",
   "pygments_lexer": "ipython3",
   "version": "3.7.3"
  }
 },
 "nbformat": 4,
 "nbformat_minor": 2
}
